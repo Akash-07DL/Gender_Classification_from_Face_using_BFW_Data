{
  "cells": [
    {
      "cell_type": "markdown",
      "metadata": {
        "id": "OkDwkhcSPEJZ"
      },
      "source": [
        "# Required Paths and Libraries"
      ]
    },
    {
      "cell_type": "code",
      "execution_count": null,
      "metadata": {
        "colab": {
          "base_uri": "https://localhost:8080/"
        },
        "id": "2gA3NeSoz2HQ",
        "outputId": "b9387f7c-45de-406f-f6aa-19a32a969be4"
      },
      "outputs": [
        {
          "output_type": "stream",
          "name": "stdout",
          "text": [
            "Mounted at /content/drive\n"
          ]
        }
      ],
      "source": [
        "from google.colab import drive\n",
        "drive.mount('/content/drive') "
      ]
    },
    {
      "cell_type": "code",
      "execution_count": null,
      "metadata": {
        "id": "NgmgG6Tf0DzT"
      },
      "outputs": [],
      "source": [
        "# Unzip the files from google drive...\n",
        "#!unzip \"/content/drive/MyDrive/Data-BFW/bfw-faces-noncrop.zip\" -d \"/content/drive/MyDrive/images/\""
      ]
    },
    {
      "cell_type": "code",
      "execution_count": 1,
      "metadata": {
        "id": "RvFG_fP_0mjf"
      },
      "outputs": [],
      "source": [
        "# Importing the primary libraries.\n",
        "import os\n",
        "import numpy as np\n",
        "import pandas as pd\n",
        "import matplotlib.pyplot as plt\n",
        "import keras\n",
        "import tensorflow as tf\n",
        "import cv2\n",
        "from random import shuffle\n",
        "from tqdm import tqdm\n",
        "from google.colab.patches import cv2_imshow"
      ]
    },
    {
      "cell_type": "code",
      "execution_count": 2,
      "metadata": {
        "id": "b8T5r4lFY8rg"
      },
      "outputs": [],
      "source": [
        "from tensorflow.keras.preprocessing import image\n",
        "from tensorflow.keras.preprocessing.image import ImageDataGenerator, load_img, img_to_array\n",
        "from tensorflow.keras.models import Sequential\n",
        "\n",
        "from google.colab.patches import cv2_imshow\n",
        "from sklearn import model_selection"
      ]
    },
    {
      "cell_type": "markdown",
      "metadata": {
        "id": "sLVkzQTb0yCa"
      },
      "source": [
        "# Data Prep - 00(CSV)"
      ]
    },
    {
      "cell_type": "code",
      "execution_count": null,
      "metadata": {
        "colab": {
          "base_uri": "https://localhost:8080/"
        },
        "id": "CNXIw6Ra0vOQ",
        "outputId": "8264ae78-5c45-4947-f59a-66fc5ddc6a61"
      },
      "outputs": [
        {
          "name": "stdout",
          "output_type": "stream",
          "text": [
            "Empty DataFrame\n",
            "Columns: [Path, Gender]\n",
            "Index: []\n"
          ]
        }
      ],
      "source": [
        "df = pd.DataFrame(columns = ['Path', 'Gender'])\n",
        "print(df)"
      ]
    },
    {
      "cell_type": "code",
      "execution_count": null,
      "metadata": {
        "id": "rdA7HcUR00mk"
      },
      "outputs": [],
      "source": [
        "for root, dirs, files in os.walk(\"/content/drive/MyDrive/images/\"):\n",
        "  for name in files:\n",
        "    path = os.path.join(root, name)\n",
        "    #print(path)\n",
        "    #print(name)\n",
        "    lst = path.split('/')\n",
        "    lst1 = lst[9]\n",
        "    lst2 = lst1.split('_')\n",
        "    lst3 = lst2[1]\n",
        "    if path.endswith('.jpg'):\n",
        "        if lst3 == 'males':\n",
        "            gender = int(1)\n",
        "            df = df.append({'Path': path, 'Gender': gender}, ignore_index=True)\n",
        "        elif lst3 == 'females':\n",
        "            gender = int(0)\n",
        "            df = df.append({'Path': path, 'Gender': gender}, ignore_index=True)"
      ]
    },
    {
      "cell_type": "code",
      "execution_count": null,
      "metadata": {
        "id": "ib7mUPjO1jk5"
      },
      "outputs": [],
      "source": [
        "df.head(2)"
      ]
    },
    {
      "cell_type": "code",
      "execution_count": null,
      "metadata": {
        "colab": {
          "base_uri": "https://localhost:8080/"
        },
        "id": "qW3kCHOF9cIs",
        "outputId": "87b40d35-2dad-4572-b6b6-9c615b41e5fc"
      },
      "outputs": [
        {
          "name": "stdout",
          "output_type": "stream",
          "text": [
            "<class 'pandas.core.frame.DataFrame'>\n",
            "RangeIndex: 20000 entries, 0 to 19999\n",
            "Data columns (total 2 columns):\n",
            " #   Column  Non-Null Count  Dtype \n",
            "---  ------  --------------  ----- \n",
            " 0   Path    20000 non-null  object\n",
            " 1   Gender  20000 non-null  object\n",
            "dtypes: object(2)\n",
            "memory usage: 312.6+ KB\n"
          ]
        }
      ],
      "source": [
        "df.info()"
      ]
    },
    {
      "cell_type": "code",
      "execution_count": null,
      "metadata": {
        "id": "53PF-Jfm9cFQ"
      },
      "outputs": [],
      "source": [
        "df1 = df.drop('Path', 1)\n",
        "\n",
        "df1 = df1.astype(float)"
      ]
    },
    {
      "cell_type": "code",
      "execution_count": null,
      "metadata": {
        "id": "lESawh--9cDP"
      },
      "outputs": [],
      "source": [
        "df = pd.concat([df['Path'],df1], axis=1)"
      ]
    },
    {
      "cell_type": "code",
      "execution_count": null,
      "metadata": {
        "colab": {
          "base_uri": "https://localhost:8080/"
        },
        "id": "EyxTensH9iUq",
        "outputId": "cc856890-2a1a-450c-f694-1e4a7e671816"
      },
      "outputs": [
        {
          "name": "stdout",
          "output_type": "stream",
          "text": [
            "<class 'pandas.core.frame.DataFrame'>\n",
            "RangeIndex: 20000 entries, 0 to 19999\n",
            "Data columns (total 2 columns):\n",
            " #   Column  Non-Null Count  Dtype  \n",
            "---  ------  --------------  -----  \n",
            " 0   Path    20000 non-null  object \n",
            " 1   Gender  20000 non-null  float64\n",
            "dtypes: float64(1), object(1)\n",
            "memory usage: 312.6+ KB\n"
          ]
        }
      ],
      "source": [
        "df.info()"
      ]
    },
    {
      "cell_type": "code",
      "execution_count": null,
      "metadata": {
        "colab": {
          "base_uri": "https://localhost:8080/"
        },
        "id": "mpYoSqE59i6D",
        "outputId": "85ad2075-e2a8-4d19-88af-55de33fa79ee"
      },
      "outputs": [
        {
          "data": {
            "text/plain": [
              "Path      0\n",
              "Gender    0\n",
              "dtype: int64"
            ]
          },
          "execution_count": 18,
          "metadata": {},
          "output_type": "execute_result"
        }
      ],
      "source": [
        "df.isna().sum()"
      ]
    },
    {
      "cell_type": "code",
      "execution_count": null,
      "metadata": {
        "id": "agjp7uCE9n1i"
      },
      "outputs": [],
      "source": [
        "df.to_csv('bfw_data_gender_final.csv')"
      ]
    },
    {
      "cell_type": "code",
      "execution_count": null,
      "metadata": {
        "id": "s47zp_1M9qDF"
      },
      "outputs": [],
      "source": [
        ""
      ]
    },
    {
      "cell_type": "markdown",
      "metadata": {
        "id": "alY1dxAW9qbk"
      },
      "source": [
        "# Data Prep - 01 (From CSV)"
      ]
    },
    {
      "cell_type": "code",
      "execution_count": null,
      "metadata": {
        "id": "YaAR5tmT9vn8"
      },
      "outputs": [],
      "source": [
        "# Read the CSV.\n",
        "daf = pd.read_csv('/content/bfw_data_gender_final.csv',\n",
        "                        usecols=['Path', 'Gender']).values"
      ]
    },
    {
      "cell_type": "code",
      "execution_count": null,
      "metadata": {
        "id": "XR0qzpPd-yGk"
      },
      "outputs": [],
      "source": [
        "daf"
      ]
    },
    {
      "cell_type": "code",
      "execution_count": null,
      "metadata": {
        "id": "uvu8Ww-yG1Og"
      },
      "outputs": [],
      "source": [
        "def my_label(path):\n",
        "  lst = path.split('/')\n",
        "  lst1 = lst[9]\n",
        "  lst2 = lst1.split('_')\n",
        "  lst3 = lst2[1]\n",
        "  if path.endswith('.jpg'):\n",
        "      if lst3 == 'males':\n",
        "          gender = int(1)\n",
        "          return gender\n",
        "      elif lst3 == 'females':\n",
        "          gender = int(0)\n",
        "          return gender"
      ]
    },
    {
      "cell_type": "code",
      "execution_count": null,
      "metadata": {
        "id": "_PXMsZ9OTAxO"
      },
      "outputs": [],
      "source": [
        "X = []  # the features, or inputs\n",
        "y = []  # the labels, or outputs\n",
        "\n",
        "\n",
        "for row in daf:\n",
        "    image_name = row[0] \n",
        "    image_smoker = row[1]\n",
        "    # resizing our original images to 224x224, and turning them into numpy arrays\n",
        "    image = load_img( image_name, target_size=(224,224,3))\n",
        "    input_arr = img_to_array(image)\n",
        "    input_arr = np.array(input_arr).reshape(-1)\n",
        "    X.append(input_arr)\n",
        "    y.append(my_label(image_name))"
      ]
    },
    {
      "cell_type": "code",
      "execution_count": null,
      "metadata": {
        "id": "Lp2Ej0Dt-1Ec"
      },
      "outputs": [],
      "source": [
        ""
      ]
    },
    {
      "cell_type": "markdown",
      "metadata": {
        "id": "hjNQVDJ5-6lZ"
      },
      "source": [
        "# Data Prep - 02(Direct from path) For **ML Model**"
      ]
    },
    {
      "cell_type": "code",
      "execution_count": 3,
      "metadata": {
        "id": "1J8w9d0aTUZf"
      },
      "outputs": [],
      "source": [
        "def my_label(path):          # This function is based on my directory.\n",
        "  lst = path.split('/')\n",
        "  lst1 = lst[9]\n",
        "  lst2 = lst1.split('_')\n",
        "  lst3 = lst2[1]\n",
        "  if path.endswith('.jpg'):\n",
        "      if lst3 == 'males':\n",
        "          gender = int(1)\n",
        "          return gender\n",
        "      elif lst3 == 'females':\n",
        "          gender = int(0)\n",
        "          return gender"
      ]
    },
    {
      "cell_type": "code",
      "execution_count": null,
      "metadata": {
        "id": "1SkXo9hHZ36M"
      },
      "outputs": [],
      "source": [
        "data = []  # empty list to store the image.\n",
        "i = 0\n",
        "\n",
        "# Considering only --- (1. asian females, 2.asian males) # We don't\n",
        "\n",
        "\n",
        "for root, dirs, files in os.walk('/content/drive/MyDrive/images/'): # Path to the images.\n",
        "    for name in files:                  \n",
        "        path = os.path.join(root, name)\n",
        "        img = cv2.imread(path) \n",
        "        if img is not None: \n",
        "          img = cv2.resize(img, (224, 224))\n",
        "          img = np.array(img).reshape(-1)\n",
        "          #print(img.shape)\n",
        "          data.append([np.array(img), my_label(path)])  # Storing the images as an array with their labels in a list\n",
        "                                                        # using the \"my_label\" function (defined on upper cell).\n",
        "          i = i+1\n",
        "          print(i)\n",
        "          print(path)"
      ]
    },
    {
      "cell_type": "code",
      "execution_count": 5,
      "metadata": {
        "colab": {
          "base_uri": "https://localhost:8080/"
        },
        "id": "kmgyebMea4Mp",
        "outputId": "629c496c-89af-470f-841b-d2e1e0f5cf5e"
      },
      "outputs": [
        {
          "output_type": "execute_result",
          "data": {
            "text/plain": [
              "5000"
            ]
          },
          "metadata": {},
          "execution_count": 5
        }
      ],
      "source": [
        "len(data)"
      ]
    },
    {
      "cell_type": "code",
      "execution_count": 6,
      "metadata": {
        "id": "QcDhOTEgvkLZ"
      },
      "outputs": [],
      "source": [
        "# Shuffling the data randomly for training.\n",
        "shuffle(data)"
      ]
    },
    {
      "cell_type": "code",
      "execution_count": 7,
      "metadata": {
        "colab": {
          "base_uri": "https://localhost:8080/"
        },
        "id": "pWviigYRvsrz",
        "outputId": "92faf195-a7fa-4a33-c855-ed463abfaa2b"
      },
      "outputs": [
        {
          "output_type": "stream",
          "name": "stdout",
          "text": [
            "(4500, 150528)\n",
            "(500, 150528)\n"
          ]
        }
      ],
      "source": [
        "# Total 20000 data. (80% training data, 20% testing data)\n",
        "train_data = data[:4500]\n",
        "test_data = data[4500:]\n",
        "\n",
        "# training data.\n",
        "\n",
        "x_train = np.array([i[0] for i in train_data]) \n",
        "print(x_train.shape)\n",
        "y_train = np.array([i[1] for i in train_data])\n",
        "\n",
        "# testing data.\n",
        "\n",
        "x_test = np.array([i[0] for i in test_data])   \n",
        "print(x_test.shape)\n",
        "y_test = np.array([i[1] for i in test_data])"
      ]
    },
    {
      "cell_type": "code",
      "execution_count": 8,
      "metadata": {
        "colab": {
          "base_uri": "https://localhost:8080/"
        },
        "id": "WxFwJu7Sv8J3",
        "outputId": "341dc3e5-da2c-4b96-bf14-236bfe0f4634"
      },
      "outputs": [
        {
          "output_type": "execute_result",
          "data": {
            "text/plain": [
              "((4500, 150528), (4500,), (500, 150528), (500,))"
            ]
          },
          "metadata": {},
          "execution_count": 8
        }
      ],
      "source": [
        "x_train.shape, y_train.shape, x_test.shape, y_test.shape"
      ]
    },
    {
      "cell_type": "markdown",
      "metadata": {
        "id": "haBNAPSkFvxV"
      },
      "source": [
        "# Simple ML Approach"
      ]
    },
    {
      "cell_type": "code",
      "execution_count": 9,
      "metadata": {
        "id": "3FjDFIF1wR-H"
      },
      "outputs": [],
      "source": [
        "# Using Normalization.\n",
        "\n",
        "# normalizing the image array inputs\n",
        "x_train = x_train.astype('float32') / 255\n",
        "x_test = x_test.astype('float32') / 255"
      ]
    },
    {
      "cell_type": "code",
      "execution_count": 10,
      "metadata": {
        "colab": {
          "base_uri": "https://localhost:8080/"
        },
        "id": "yzAW8knowdMh",
        "outputId": "eb5eef53-4e3f-4dcf-900e-234a9a2bf5e2"
      },
      "outputs": [
        {
          "output_type": "execute_result",
          "data": {
            "text/plain": [
              "((4500, 150528), (500, 150528))"
            ]
          },
          "metadata": {},
          "execution_count": 10
        }
      ],
      "source": [
        "x_train.shape, x_test.shape"
      ]
    },
    {
      "cell_type": "markdown",
      "metadata": {
        "id": "XonvV-K-DX2V"
      },
      "source": [
        "## Random Forest(C)"
      ]
    },
    {
      "cell_type": "code",
      "execution_count": null,
      "metadata": {
        "id": "ViB2M6aHDD6G"
      },
      "outputs": [],
      "source": [
        "# importing random forest classifier from ensemble module.\n",
        "from sklearn.ensemble import RandomForestClassifier"
      ]
    },
    {
      "cell_type": "code",
      "execution_count": null,
      "metadata": {
        "id": "R8x1JnK4DRw_"
      },
      "outputs": [],
      "source": [
        "model = RandomForestClassifier(n_estimators=100, \n",
        "                               bootstrap = True)"
      ]
    },
    {
      "cell_type": "code",
      "execution_count": null,
      "metadata": {
        "colab": {
          "base_uri": "https://localhost:8080/"
        },
        "id": "T4kz8MneDUyi",
        "outputId": "d127e462-bfac-4786-dc76-6bb492ff94cf"
      },
      "outputs": [
        {
          "output_type": "execute_result",
          "data": {
            "text/plain": [
              "RandomForestClassifier()"
            ]
          },
          "metadata": {},
          "execution_count": 24
        }
      ],
      "source": [
        "# Fit on training data\n",
        "model.fit(x_train, y_train)"
      ]
    },
    {
      "cell_type": "code",
      "execution_count": null,
      "metadata": {
        "id": "eR1QWkSkDbFM"
      },
      "outputs": [],
      "source": [
        "# Performing predictions on the test dataset\n",
        "y_pred = model.predict(x_test)"
      ]
    },
    {
      "cell_type": "code",
      "execution_count": null,
      "metadata": {
        "colab": {
          "base_uri": "https://localhost:8080/"
        },
        "id": "37h3EGfcDbB1",
        "outputId": "a107e18c-c967-49b7-d789-0f8333484ad5"
      },
      "outputs": [
        {
          "output_type": "stream",
          "name": "stdout",
          "text": [
            "ACCURACY OF THE MODEL:  0.7\n"
          ]
        }
      ],
      "source": [
        "# metrics are used to find accuracy or error\n",
        "from sklearn import metrics  \n",
        "  \n",
        "# using metrics module for accuracy calculation\n",
        "print(\"ACCURACY OF THE MODEL: \", metrics.accuracy_score(y_test, y_pred))"
      ]
    },
    {
      "cell_type": "code",
      "execution_count": null,
      "metadata": {
        "colab": {
          "base_uri": "https://localhost:8080/"
        },
        "id": "NhfGAUBID0f1",
        "outputId": "831eb983-749f-4dca-8cdd-15a46c081cc6"
      },
      "outputs": [
        {
          "output_type": "stream",
          "name": "stdout",
          "text": [
            "=== Confusion Matrix ===\n",
            "[[176  72]\n",
            " [ 78 174]]\n",
            "\n",
            "\n",
            "=== Classification Report ===\n",
            "              precision    recall  f1-score   support\n",
            "\n",
            "           0       0.69      0.71      0.70       248\n",
            "           1       0.71      0.69      0.70       252\n",
            "\n",
            "    accuracy                           0.70       500\n",
            "   macro avg       0.70      0.70      0.70       500\n",
            "weighted avg       0.70      0.70      0.70       500\n",
            "\n",
            "\n",
            "\n"
          ]
        }
      ],
      "source": [
        "from sklearn.metrics import classification_report, confusion_matrix\n",
        "\n",
        "print(\"=== Confusion Matrix ===\")\n",
        "print(confusion_matrix(y_test, y_pred))\n",
        "print('\\n')\n",
        "\n",
        "print(\"=== Classification Report ===\")\n",
        "print(classification_report(y_test, y_pred))\n",
        "print('\\n')"
      ]
    },
    {
      "cell_type": "code",
      "execution_count": null,
      "metadata": {
        "colab": {
          "base_uri": "https://localhost:8080/"
        },
        "id": "4vD_ka9xG8UM",
        "outputId": "f10d2adf-961b-405f-d4e3-b694773b2036"
      },
      "outputs": [
        {
          "output_type": "execute_result",
          "data": {
            "text/plain": [
              "['Simple_GENDER_detector_model_Random_Forest']"
            ]
          },
          "metadata": {},
          "execution_count": 28
        }
      ],
      "source": [
        "#from sklearn.externals import joblib\n",
        "import joblib\n",
        "smoke_model = 'Simple_GENDER_detector_model_Random_Forest'\n",
        "joblib.dump(model, smoke_model)"
      ]
    },
    {
      "cell_type": "code",
      "execution_count": null,
      "metadata": {
        "id": "tdG-Wuf0G9Aq"
      },
      "outputs": [],
      "source": [
        ""
      ]
    },
    {
      "cell_type": "markdown",
      "metadata": {
        "id": "eTgxqYqpFoOY"
      },
      "source": [
        "## SVM(C)"
      ]
    },
    {
      "cell_type": "code",
      "execution_count": null,
      "metadata": {
        "colab": {
          "base_uri": "https://localhost:8080/"
        },
        "id": "MZNZuwLMD0cW",
        "outputId": "ee22803d-a22f-4ce7-f115-acda369c489a"
      },
      "outputs": [
        {
          "output_type": "execute_result",
          "data": {
            "text/plain": [
              "((4500, 150528), (500, 150528))"
            ]
          },
          "metadata": {},
          "execution_count": 14
        }
      ],
      "source": [
        "x_train.shape, x_test.shape"
      ]
    },
    {
      "cell_type": "code",
      "execution_count": null,
      "metadata": {
        "id": "0LZUzSGaFnyo"
      },
      "outputs": [],
      "source": [
        "#Import svm model\n",
        "from sklearn import svm\n",
        "\n",
        "#Create a svm Classifier\n",
        "clf = svm.SVC(kernel='rbf') # Linear Kernel\n",
        "\n",
        "#Train the model using the training sets\n",
        "clf.fit(x_train, y_train)"
      ]
    },
    {
      "cell_type": "code",
      "execution_count": null,
      "metadata": {
        "id": "mSp5YFofGCLW"
      },
      "outputs": [],
      "source": [
        "y_pred = clf.predict(x_test)"
      ]
    },
    {
      "cell_type": "code",
      "execution_count": null,
      "metadata": {
        "id": "qibof1myGCHx"
      },
      "outputs": [],
      "source": [
        "from sklearn import metrics\n",
        "\n",
        "print(\"Accuracy:\",metrics.accuracy_score(y_test, y_pred))"
      ]
    },
    {
      "cell_type": "code",
      "execution_count": null,
      "metadata": {
        "id": "_zBgnxsl0wlA"
      },
      "outputs": [],
      "source": [
        "from sklearn.metrics import classification_report, confusion_matrix\n",
        "\n",
        "print(\"=== Confusion Matrix ===\")\n",
        "print(confusion_matrix(y_test, y_pred))\n",
        "print('\\n')\n",
        "\n",
        "print(\"=== Classification Report ===\")\n",
        "print(classification_report(y_test, y_pred))\n",
        "print('\\n')"
      ]
    },
    {
      "cell_type": "code",
      "execution_count": null,
      "metadata": {
        "id": "T3Gkq_v_0whp"
      },
      "outputs": [],
      "source": [
        "print(\"Precision:\",metrics.precision_score(y_test, y_pred))\n",
        "\n",
        "print(\"Recall:\",metrics.recall_score(y_test, y_pred))"
      ]
    },
    {
      "cell_type": "code",
      "execution_count": null,
      "metadata": {
        "id": "sPZKQDfN0wfw"
      },
      "outputs": [],
      "source": [
        "import joblib\n",
        "smoke_model = 'Simple_Gender_detector_model_SVM'\n",
        "joblib.dump(clf, smoke_model)"
      ]
    },
    {
      "cell_type": "code",
      "execution_count": null,
      "metadata": {
        "id": "dH6bOu7Q06pH"
      },
      "outputs": [],
      "source": [
        ""
      ]
    },
    {
      "cell_type": "markdown",
      "source": [
        "## XGBoost(C)"
      ],
      "metadata": {
        "id": "--VHywaRD-79"
      }
    },
    {
      "cell_type": "code",
      "execution_count": 11,
      "metadata": {
        "id": "0UvOd8xH06mq"
      },
      "outputs": [],
      "source": [
        "import xgboost as xgb\n",
        "from xgboost import XGBClassifier"
      ]
    },
    {
      "cell_type": "code",
      "execution_count": 12,
      "metadata": {
        "id": "nzJPESeh06lK"
      },
      "outputs": [],
      "source": [
        "model = XGBClassifier(use_label_encoder=False, eval_metric='mlogloss')"
      ]
    },
    {
      "cell_type": "code",
      "source": [
        "model.fit(x_train, y_train)"
      ],
      "metadata": {
        "id": "Z5HrPyZqEJd6"
      },
      "execution_count": null,
      "outputs": []
    },
    {
      "cell_type": "code",
      "source": [
        "y_pred = model.predict(x_test)"
      ],
      "metadata": {
        "id": "V-74duQwEWns"
      },
      "execution_count": null,
      "outputs": []
    },
    {
      "cell_type": "code",
      "source": [
        "from sklearn import metrics\n",
        "\n",
        "accuracy = metrics.accuracy_score(y_test, y_pred)\n",
        "accuracy"
      ],
      "metadata": {
        "id": "hwm0vzv-Eenc"
      },
      "execution_count": null,
      "outputs": []
    },
    {
      "cell_type": "code",
      "source": [
        "from sklearn.metrics import classification_report, confusion_matrix\n",
        "\n",
        "print(\"=== Confusion Matrix ===\")\n",
        "print(confusion_matrix(y_test, y_pred))\n",
        "print('\\n')\n",
        "\n",
        "print(\"=== Classification Report ===\")\n",
        "print(classification_report(y_test, y_pred))\n",
        "print('\\n')"
      ],
      "metadata": {
        "id": "d-JbEKTXEekC"
      },
      "execution_count": null,
      "outputs": []
    },
    {
      "cell_type": "code",
      "source": [
        "print(\"Precision:\",metrics.precision_score(y_test, y_pred))\n",
        "\n",
        "print(\"Recall:\",metrics.recall_score(y_test, y_pred))"
      ],
      "metadata": {
        "id": "A5boLVWhEeiI"
      },
      "execution_count": null,
      "outputs": []
    },
    {
      "cell_type": "code",
      "source": [
        "from sklearn.externals import joblib\n",
        "smoke_model = 'Simple_Gender_detector_model_XGBoost'\n",
        "joblib.dump(model, smoke_model)"
      ],
      "metadata": {
        "id": "dQXubccGEpH-"
      },
      "execution_count": null,
      "outputs": []
    },
    {
      "cell_type": "code",
      "source": [
        ""
      ],
      "metadata": {
        "id": "bXxJN4XQEpEh"
      },
      "execution_count": null,
      "outputs": []
    },
    {
      "cell_type": "code",
      "source": [
        ""
      ],
      "metadata": {
        "id": "hJ0AXYWyPS3R"
      },
      "execution_count": null,
      "outputs": []
    }
  ],
  "metadata": {
    "colab": {
      "name": "Gender_recog_ML_github_bfw_data.ipynb",
      "provenance": []
    },
    "kernelspec": {
      "display_name": "Python 3",
      "name": "python3"
    },
    "language_info": {
      "name": "python"
    },
    "accelerator": "GPU"
  },
  "nbformat": 4,
  "nbformat_minor": 0
}